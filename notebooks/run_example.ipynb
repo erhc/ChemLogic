{
 "cells": [
  {
   "cell_type": "code",
   "execution_count": null,
   "id": "ffaa959a",
   "metadata": {},
   "outputs": [],
   "source": [
    "%pip install chemlogic"
   ]
  },
  {
   "cell_type": "code",
   "execution_count": null,
   "id": "cee3a6cb",
   "metadata": {},
   "outputs": [],
   "source": [
    "from chemlogic.utils.Pipeline import Pipeline\n",
    "\n",
    "# Run an example of GNN on MUTAG dataset\n",
    "dataset_name = \"mutagen\"\n",
    "model_name = \"gnn\"\n",
    "param_size = 1\n",
    "layers = 1\n",
    "\n",
    "pipeline = Pipeline(dataset_name, model_name, param_size, layers)\n",
    "\n",
    "\n",
    "train_loss, test_loss, auroc_score, _ = pipeline.train_test_cycle()\n",
    "(train_loss, test_loss, auroc_score)"
   ]
  },
  {
   "cell_type": "code",
   "execution_count": null,
   "id": "f8f76b98",
   "metadata": {},
   "outputs": [],
   "source": [
    "from chemlogic.utils.Pipeline import Pipeline\n",
    "\n",
    "# Run an example of SGN on mutagen dataset with chemical rules\n",
    "\n",
    "dataset_name = \"mutagen\"\n",
    "model_name = \"sgn\"\n",
    "chem_rules = True\n",
    "subgraphs = True\n",
    "param_size = 3\n",
    "layers = 1\n",
    "\n",
    "pipeline = Pipeline(\n",
    "    dataset_name,\n",
    "    model_name,\n",
    "    param_size,\n",
    "    layers,\n",
    "    chem_rules=chem_rules,\n",
    "    subgraphs=subgraphs,\n",
    ")\n",
    "\n",
    "train_loss, test_loss, auroc_score, _ = pipeline.train_test_cycle()\n",
    "(train_loss, test_loss, auroc_score)"
   ]
  },
  {
   "cell_type": "code",
   "execution_count": null,
   "id": "c3356e76",
   "metadata": {},
   "outputs": [],
   "source": [
    "from chemlogic.utils.Pipeline import Pipeline, ArchitectureType\n",
    "\n",
    "\n",
    "# Run an example of RGCN on mutagen dataset with only oxygen groups in CCD architecture\n",
    "\n",
    "dataset_name = \"mutagen\"\n",
    "model_name = \"rgcn\"\n",
    "chem_rules = (False, True, False, False, False)\n",
    "param_size = 3\n",
    "layers = 1\n",
    "\n",
    "pipeline = Pipeline(\n",
    "    dataset_name,\n",
    "    model_name,\n",
    "    param_size,\n",
    "    layers,\n",
    "    chem_rules=chem_rules,\n",
    "    architecture=ArchitectureType.CCD,\n",
    ")\n",
    "\n",
    "train_loss, test_loss, auroc_score, _ = pipeline.train_test_cycle()\n",
    "(train_loss, test_loss, auroc_score)"
   ]
  },
  {
   "cell_type": "code",
   "execution_count": null,
   "id": "5cdf2ff1",
   "metadata": {},
   "outputs": [],
   "source": [
    "# Draw to see the weights\n",
    "pipeline.template.draw()"
   ]
  },
  {
   "cell_type": "code",
   "execution_count": null,
   "id": "7e002f43",
   "metadata": {},
   "outputs": [],
   "source": [
    "from chemlogic.utils.Pipeline import Pipeline, ArchitectureType\n",
    "\n",
    "# Run an example of EgoGNN on mutagen dataset with subgraoh patterns in CCE architecture\n",
    "\n",
    "dataset_name = \"mutagen\"\n",
    "model_name = \"ego\"\n",
    "subgraphs = True\n",
    "param_size = 3\n",
    "layers = 1\n",
    "\n",
    "pipeline = Pipeline(\n",
    "    dataset_name,\n",
    "    model_name,\n",
    "    param_size,\n",
    "    layers,\n",
    "    subgraphs=subgraphs,\n",
    "    architecture=ArchitectureType.CCE,\n",
    ")\n",
    "\n",
    "train_loss, test_loss, auroc_score, _ = pipeline.train_test_cycle(epochs=1)\n",
    "(train_loss, test_loss, auroc_score)"
   ]
  },
  {
   "cell_type": "code",
   "execution_count": null,
   "id": "805e73ae",
   "metadata": {},
   "outputs": [],
   "source": []
  }
 ],
 "metadata": {
  "kernelspec": {
   "display_name": "differentiablechemistry-3.11",
   "language": "python",
   "name": "python3"
  },
  "language_info": {
   "codemirror_mode": {
    "name": "ipython",
    "version": 3
   },
   "file_extension": ".py",
   "mimetype": "text/x-python",
   "name": "python",
   "nbconvert_exporter": "python",
   "pygments_lexer": "ipython3",
   "version": "3.11.13"
  }
 },
 "nbformat": 4,
 "nbformat_minor": 5
}
