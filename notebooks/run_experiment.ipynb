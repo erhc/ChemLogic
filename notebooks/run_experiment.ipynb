{
 "cells": [
  {
   "cell_type": "code",
   "execution_count": null,
   "id": "0c33e356",
   "metadata": {},
   "outputs": [],
   "source": [
    "%pip install ChemLogic"
   ]
  },
  {
   "cell_type": "code",
   "execution_count": null,
   "id": "bfb9ebc6",
   "metadata": {},
   "outputs": [],
   "source": [
    "from functools import partial\n",
    "\n",
    "import optuna\n",
    "\n",
    "from chemlogic.main import main\n",
    "\n",
    "model_name = \"gnn\"\n",
    "dataset_name = \"mutagen\"\n",
    "chem = True\n",
    "num_trials = 200\n",
    "arch = \"CCD\"  # \"CCE\", \"CCD\", \"bare\"\n",
    "batches = 10\n",
    "\n",
    "\n",
    "study = optuna.create_study(study_name=f\"{model_name}_{dataset_name}_{arch}\")\n",
    "c, s = (chem,) * 2\n",
    "\n",
    "main_function = partial(\n",
    "    main,\n",
    "    dataset_name=dataset_name,\n",
    "    model_name=model_name,\n",
    "    chemical_rules=c,\n",
    "    subgraphs=s,\n",
    "    architecture=arch,\n",
    "    batches=batches,\n",
    ")\n",
    "study.optimize(main_function, n_trials=num_trials, catch=(KeyError))"
   ]
  }
 ],
 "metadata": {
  "language_info": {
   "name": "python"
  }
 },
 "nbformat": 4,
 "nbformat_minor": 5
}
